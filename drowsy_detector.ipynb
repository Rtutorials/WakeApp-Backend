{
  "cells": [
    {
      "cell_type": "code",
      "execution_count": null,
      "id": "e53ba1b5",
      "metadata": {
        "ExecuteTime": {
          "end_time": "2022-01-12T08:49:32.756220Z",
          "start_time": "2022-01-12T08:49:32.082845Z"
        },
        "id": "e53ba1b5"
      },
      "outputs": [],
      "source": [
        "import os, os.path\n",
        "import numpy as np\n",
        "import PIL.Image as Im\n",
        "from google.colab.patches import cv2_imshow\n",
        "import tensorflow as tf\n",
        "import cv2"
      ]
    },
    {
      "cell_type": "code",
      "source": [
        "!mkdir data/"
      ],
      "metadata": {
        "id": "Qf0xtOx7rjNY"
      },
      "id": "Qf0xtOx7rjNY",
      "execution_count": null,
      "outputs": []
    },
    {
      "cell_type": "code",
      "source": [
        "!wget -O data/dataset.zip http://mrl.cs.vsb.cz/data/eyedataset/mrlEyes_2018_01.zip"
      ],
      "metadata": {
        "colab": {
          "base_uri": "https://localhost:8080/"
        },
        "id": "9XWdN2nJrW5v",
        "outputId": "c254b284-83c2-4000-df0c-d87848de9c6e"
      },
      "id": "9XWdN2nJrW5v",
      "execution_count": null,
      "outputs": [
        {
          "output_type": "stream",
          "name": "stdout",
          "text": [
            "--2022-01-13 15:53:26--  http://mrl.cs.vsb.cz/data/eyedataset/mrlEyes_2018_01.zip\n",
            "Resolving mrl.cs.vsb.cz (mrl.cs.vsb.cz)... 158.196.141.22\n",
            "Connecting to mrl.cs.vsb.cz (mrl.cs.vsb.cz)|158.196.141.22|:80... connected.\n",
            "HTTP request sent, awaiting response... 200 OK\n",
            "Length: 341866898 (326M) [application/zip]\n",
            "Saving to: ‘data/dataset.zip’\n",
            "\n",
            "data/dataset.zip    100%[===================>] 326.03M  6.92MB/s    in 47s     \n",
            "\n",
            "2022-01-13 15:54:15 (7.00 MB/s) - ‘data/dataset.zip’ saved [341866898/341866898]\n",
            "\n"
          ]
        }
      ]
    },
    {
      "cell_type": "code",
      "source": [
        "!unzip data/dataset.zip"
      ],
      "metadata": {
        "id": "t7CBc8_krYFa"
      },
      "id": "t7CBc8_krYFa",
      "execution_count": null,
      "outputs": []
    },
    {
      "cell_type": "code",
      "execution_count": null,
      "id": "9d3a0016",
      "metadata": {
        "ExecuteTime": {
          "end_time": "2022-01-12T08:49:32.759500Z",
          "start_time": "2022-01-12T08:49:32.757514Z"
        },
        "id": "9d3a0016"
      },
      "outputs": [],
      "source": [
        "correct_ending_closed = ('0_0_0_1_01.png', '0_0_0_1_02.png', '0_0_0_1_03.png',\n",
        "                         '0_0_0_0_01.png', '0_0_0_0_02.png', '0_0_0_0_03.png',\n",
        "                         '0_0_1_1_01.png', '0_0_1_1_02.png', '0_0_1_1_03.png',\n",
        "                         '0_0_1_0_01.png', '0_0_1_0_02.png', '0_0_1_0_03.png')\n",
        "correct_ending_open = ('0_1_0_1_01.png', '0_1_0_1_02.png', '0_1_0_1_03.png',\n",
        "                       '0_1_0_0_01.png', '0_1_0_0_02.png', '0_1_0_0_03.png',\n",
        "                       '0_1_1_1_01.png', '0_1_1_1_02.png', '0_1_1_1_03.png',\n",
        "                       '0_1_1_0_01.png', '0_1_1_0_02.png', '0_1_1_0_03.png')"
      ]
    },
    {
      "cell_type": "code",
      "execution_count": null,
      "id": "2142f158",
      "metadata": {
        "ExecuteTime": {
          "end_time": "2022-01-12T08:49:32.861785Z",
          "start_time": "2022-01-12T08:49:32.760566Z"
        },
        "id": "2142f158"
      },
      "outputs": [],
      "source": [
        "closed_eye_files = []\n",
        "open_eye_files = []\n",
        "for i in range(1,38):\n",
        "    if i < 10:\n",
        "        i = '0' + str(i)\n",
        "    directory = os.listdir('mrlEyes_2018_01/s00' + str(i))\n",
        "    dir_name = 'mrlEyes_2018_01/s00' + str(i)\n",
        "    closed_eye_files += [dir_name + '/' + file for file in directory if file.endswith(correct_ending_closed)]\n",
        "    open_eye_files += [dir_name + '/' + file for file in directory if file.endswith(correct_ending_open)]"
      ]
    },
    {
      "cell_type": "code",
      "execution_count": null,
      "id": "6d74b08a",
      "metadata": {
        "ExecuteTime": {
          "end_time": "2022-01-12T08:49:32.867521Z",
          "start_time": "2022-01-12T08:49:32.862618Z"
        },
        "id": "6d74b08a",
        "outputId": "a48a2b8b-e3dd-45e9-e3fb-54ea91741129",
        "colab": {
          "base_uri": "https://localhost:8080/"
        }
      },
      "outputs": [
        {
          "output_type": "execute_result",
          "data": {
            "text/plain": [
              "27312"
            ]
          },
          "metadata": {},
          "execution_count": 13
        }
      ],
      "source": [
        "len(closed_eye_files)"
      ]
    },
    {
      "cell_type": "code",
      "execution_count": null,
      "id": "77cabc2e",
      "metadata": {
        "ExecuteTime": {
          "end_time": "2022-01-12T08:49:32.870479Z",
          "start_time": "2022-01-12T08:49:32.868389Z"
        },
        "id": "77cabc2e",
        "outputId": "080e5352-fa8d-4e6f-f1b8-a4401a9acdc3",
        "colab": {
          "base_uri": "https://localhost:8080/"
        }
      },
      "outputs": [
        {
          "output_type": "execute_result",
          "data": {
            "text/plain": [
              "30220"
            ]
          },
          "metadata": {},
          "execution_count": 14
        }
      ],
      "source": [
        "len(open_eye_files)"
      ]
    },
    {
      "cell_type": "code",
      "execution_count": null,
      "id": "2fcf9436",
      "metadata": {
        "ExecuteTime": {
          "end_time": "2022-01-12T08:49:32.874663Z",
          "start_time": "2022-01-12T08:49:32.871458Z"
        },
        "id": "2fcf9436"
      },
      "outputs": [],
      "source": [
        "ds = np.array(closed_eye_files + open_eye_files)"
      ]
    },
    {
      "cell_type": "code",
      "execution_count": null,
      "id": "54567fc2",
      "metadata": {
        "ExecuteTime": {
          "end_time": "2022-01-12T08:49:32.879302Z",
          "start_time": "2022-01-12T08:49:32.877061Z"
        },
        "id": "54567fc2"
      },
      "outputs": [],
      "source": [
        "labels = np.array([0] * len(closed_eye_files) + [1] * len(open_eye_files))"
      ]
    },
    {
      "cell_type": "code",
      "execution_count": null,
      "id": "05c3239a",
      "metadata": {
        "ExecuteTime": {
          "end_time": "2022-01-12T08:49:32.883351Z",
          "start_time": "2022-01-12T08:49:32.881217Z"
        },
        "id": "05c3239a",
        "outputId": "4f7c7b8e-3d03-46ea-9a39-3e3b1f965fe1",
        "colab": {
          "base_uri": "https://localhost:8080/"
        }
      },
      "outputs": [
        {
          "output_type": "execute_result",
          "data": {
            "text/plain": [
              "(57532,)"
            ]
          },
          "metadata": {},
          "execution_count": 17
        }
      ],
      "source": [
        "ds.shape"
      ]
    },
    {
      "cell_type": "code",
      "execution_count": null,
      "id": "a7a0f2d3",
      "metadata": {
        "ExecuteTime": {
          "end_time": "2022-01-12T08:49:32.950516Z",
          "start_time": "2022-01-12T08:49:32.884291Z"
        },
        "id": "a7a0f2d3"
      },
      "outputs": [],
      "source": [
        "X = np.empty(shape=(57532, 50, 50))\n",
        "\n",
        "for i, image_path in enumerate(ds):\n",
        "    image_recolored = cv2.imread(image_path)\n",
        "    img_gray = cv2.cvtColor(image_recolored, cv2.COLOR_BGR2GRAY)\n",
        "    image_array = np.array(img_gray)\n",
        "    image_array_resized = cv2.resize(image_array, dsize=(50,50))\n",
        "    if image_array_resized.mean() < 50:\n",
        "      image_array_resized+=50\n",
        "      image_array_resized = np.clip(image_array_resized, 0, 255)\n",
        "    X[i] = image_array_resized"
      ]
    },
    {
      "cell_type": "code",
      "source": [
        "X_reshaped = X.reshape(57532, 50, 50, 1)"
      ],
      "metadata": {
        "id": "G3WOH7k5wE0F"
      },
      "id": "G3WOH7k5wE0F",
      "execution_count": null,
      "outputs": []
    },
    {
      "cell_type": "code",
      "source": [
        "from google.colab.patches import cv2_imshow\n",
        "cv2_imshow(X_reshaped[30000].astype(int))"
      ],
      "metadata": {
        "colab": {
          "base_uri": "https://localhost:8080/",
          "height": 67
        },
        "id": "hgqA0mhVznpC",
        "outputId": "df61508f-14f6-4431-beaa-67e417cb53e0"
      },
      "id": "hgqA0mhVznpC",
      "execution_count": null,
      "outputs": [
        {
          "output_type": "display_data",
          "data": {
            "image/png": "[encoded data removed]",
            "text/plain": [
              "<PIL.Image.Image image mode=RGB size=50x50 at 0x7FDD104771D0>"
            ]
          },
          "metadata": {}
        }
      ]
    },
    {
      "cell_type": "code",
      "source": [
        "labels[30000]"
      ],
      "metadata": {
        "colab": {
          "base_uri": "https://localhost:8080/"
        },
        "id": "a2_df1VLshsR",
        "outputId": "50eee27e-1cf9-40e1-ebf5-c72f5419d368"
      },
      "id": "a2_df1VLshsR",
      "execution_count": null,
      "outputs": [
        {
          "output_type": "execute_result",
          "data": {
            "text/plain": [
              "1"
            ]
          },
          "metadata": {},
          "execution_count": 22
        }
      ]
    },
    {
      "cell_type": "code",
      "source": [
        "cv2_imshow(X_reshaped[500].astype(int))"
      ],
      "metadata": {
        "colab": {
          "base_uri": "https://localhost:8080/",
          "height": 67
        },
        "id": "V7H3sbd4t1fd",
        "outputId": "471e3019-1840-4606-e055-08fa7ad8291a"
      },
      "id": "V7H3sbd4t1fd",
      "execution_count": null,
      "outputs": [
        {
          "output_type": "display_data",
          "data": {
            "image/png": "[encoded data removed]",
            "text/plain": [
              "<PIL.Image.Image image mode=RGB size=50x50 at 0x7FDD93D04090>"
            ]
          },
          "metadata": {}
        }
      ]
    },
    {
      "cell_type": "code",
      "source": [
        "labels[500]"
      ],
      "metadata": {
        "colab": {
          "base_uri": "https://localhost:8080/"
        },
        "id": "zYyjLaost1_0",
        "outputId": "6ca90abd-c75c-4e85-e501-71b6609b4f4f"
      },
      "id": "zYyjLaost1_0",
      "execution_count": null,
      "outputs": [
        {
          "output_type": "execute_result",
          "data": {
            "text/plain": [
              "0"
            ]
          },
          "metadata": {},
          "execution_count": 24
        }
      ]
    },
    {
      "cell_type": "code",
      "execution_count": null,
      "id": "288419e7",
      "metadata": {
        "ExecuteTime": {
          "end_time": "2022-01-12T08:49:32.953087Z",
          "start_time": "2022-01-12T08:49:32.066Z"
        },
        "id": "288419e7"
      },
      "outputs": [],
      "source": [
        "from sklearn.model_selection import train_test_split\n",
        "\n",
        "X_train, X_test, labels_train, labels_test = train_test_split(X_reshaped, labels, test_size=0.1, random_state=42)"
      ]
    },
    {
      "cell_type": "code",
      "execution_count": null,
      "id": "fc133fba",
      "metadata": {
        "ExecuteTime": {
          "end_time": "2022-01-12T08:49:32.953652Z",
          "start_time": "2022-01-12T08:49:32.066Z"
        },
        "id": "fc133fba"
      },
      "outputs": [],
      "source": [
        "from tensorflow import keras\n",
        "from tensorflow.keras.layers import Rescaling, Conv2D, MaxPooling2D, Flatten, Dense\n",
        "\n",
        "model = keras.Sequential([\n",
        "                          Rescaling(1/255, input_shape=(50,50,1)),\n",
        "                          Conv2D(64, kernel_size=(3, 3), activation='relu'),\n",
        "                          MaxPooling2D(pool_size=(2, 2)),\n",
        "                          Conv2D(64, kernel_size=(3, 3), activation='relu'),\n",
        "                          MaxPooling2D(pool_size=(2, 2)),\n",
        "                          Conv2D(64, kernel_size=(3, 3), activation='relu'),\n",
        "                          MaxPooling2D(pool_size=(2, 2)),\n",
        "                          Flatten(),\n",
        "                          Dense(64, activation='relu'),\n",
        "                          Dense(1, activation='sigmoid')\n",
        "                          ])"
      ]
    },
    {
      "cell_type": "code",
      "source": [
        "model.compile(optimizer='adam', loss='binary_crossentropy', metrics='accuracy')"
      ],
      "metadata": {
        "id": "-bHjO-m9ueRM"
      },
      "id": "-bHjO-m9ueRM",
      "execution_count": null,
      "outputs": []
    },
    {
      "cell_type": "code",
      "source": [
        "model.fit(X_train, labels_train, validation_split=0.1, batch_size=16, epochs=4)"
      ],
      "metadata": {
        "colab": {
          "base_uri": "https://localhost:8080/"
        },
        "id": "BEa5VQSu0Jcy",
        "outputId": "6a176b4e-b27f-4217-b198-cb1ab367adb4"
      },
      "id": "BEa5VQSu0Jcy",
      "execution_count": null,
      "outputs": [
        {
          "output_type": "stream",
          "name": "stdout",
          "text": [
            "Epoch 1/4\n",
            "2913/2913 [==============================] - 29s 5ms/step - loss: 0.1285 - accuracy: 0.9530 - val_loss: 0.0857 - val_accuracy: 0.9699\n",
            "Epoch 2/4\n",
            "2913/2913 [==============================] - 12s 4ms/step - loss: 0.0583 - accuracy: 0.9795 - val_loss: 0.0534 - val_accuracy: 0.9807\n",
            "Epoch 3/4\n",
            "2913/2913 [==============================] - 13s 5ms/step - loss: 0.0446 - accuracy: 0.9841 - val_loss: 0.0568 - val_accuracy: 0.9795\n",
            "Epoch 4/4\n",
            "2913/2913 [==============================] - 13s 5ms/step - loss: 0.0377 - accuracy: 0.9867 - val_loss: 0.0675 - val_accuracy: 0.9766\n"
          ]
        },
        {
          "output_type": "execute_result",
          "data": {
            "text/plain": [
              "<keras.callbacks.History at 0x7fdd006accd0>"
            ]
          },
          "metadata": {},
          "execution_count": 28
        }
      ]
    },
    {
      "cell_type": "code",
      "source": [
        "model.evaluate(X_test, labels_test)"
      ],
      "metadata": {
        "colab": {
          "base_uri": "https://localhost:8080/"
        },
        "id": "yJLTvMJr1J0D",
        "outputId": "d624e366-b0e0-477a-ffa5-d84c33805e95"
      },
      "id": "yJLTvMJr1J0D",
      "execution_count": null,
      "outputs": [
        {
          "output_type": "stream",
          "name": "stdout",
          "text": [
            "180/180 [==============================] - 1s 4ms/step - loss: 0.0553 - accuracy: 0.9783\n"
          ]
        },
        {
          "output_type": "execute_result",
          "data": {
            "text/plain": [
              "[0.05526452139019966, 0.9782759547233582]"
            ]
          },
          "metadata": {},
          "execution_count": 29
        }
      ]
    },
    {
      "cell_type": "code",
      "source": [
        "np.around(model.predict(X_test[5].reshape(-1, 50, 50, 1)), decimals=3)"
      ],
      "metadata": {
        "colab": {
          "base_uri": "https://localhost:8080/"
        },
        "id": "HEpYj4Rp1f4j",
        "outputId": "c14134e2-20ef-41b7-a539-55a06c3d166a"
      },
      "id": "HEpYj4Rp1f4j",
      "execution_count": null,
      "outputs": [
        {
          "output_type": "execute_result",
          "data": {
            "text/plain": [
              "array([[1.]], dtype=float32)"
            ]
          },
          "metadata": {},
          "execution_count": 30
        }
      ]
    },
    {
      "cell_type": "code",
      "source": [
        "cv2_imshow(X_test[5].astype(int))"
      ],
      "metadata": {
        "colab": {
          "base_uri": "https://localhost:8080/",
          "height": 67
        },
        "id": "eSSOOtBX1pi2",
        "outputId": "f81c447f-9371-46f1-f0f8-152bea8b332e"
      },
      "id": "eSSOOtBX1pi2",
      "execution_count": null,
      "outputs": [
        {
          "output_type": "display_data",
          "data": {
            "image/png": "[encoded data removed]",
            "text/plain": [
              "<PIL.Image.Image image mode=RGB size=50x50 at 0x7FDD002C8E10>"
            ]
          },
          "metadata": {}
        }
      ]
    },
    {
      "cell_type": "code",
      "source": [
        "np.around(model.predict(X_test[6].reshape(-1, 50, 50, 1)), decimals=3)\n"
      ],
      "metadata": {
        "colab": {
          "base_uri": "https://localhost:8080/"
        },
        "id": "GhIhdPdV1uMn",
        "outputId": "cfb0dde6-19be-4b59-9c96-bd0e6be92b49"
      },
      "id": "GhIhdPdV1uMn",
      "execution_count": null,
      "outputs": [
        {
          "output_type": "execute_result",
          "data": {
            "text/plain": [
              "array([[0.]], dtype=float32)"
            ]
          },
          "metadata": {},
          "execution_count": 32
        }
      ]
    },
    {
      "cell_type": "code",
      "source": [
        "cv2_imshow(X_test[6].astype(int))"
      ],
      "metadata": {
        "colab": {
          "base_uri": "https://localhost:8080/",
          "height": 67
        },
        "id": "AX8pPlq113WQ",
        "outputId": "7cf0a5a5-c493-4369-a536-6d83ac6c0fce"
      },
      "id": "AX8pPlq113WQ",
      "execution_count": null,
      "outputs": [
        {
          "output_type": "display_data",
          "data": {
            "image/png": "[encoded data removed]",
            "text/plain": [
              "<PIL.Image.Image image mode=RGB size=50x50 at 0x7FDD003707D0>"
            ]
          },
          "metadata": {}
        }
      ]
    },
    {
      "cell_type": "code",
      "source": [
        "np.around(model.predict(X_test[69].reshape(-1, 50, 50, 1)), decimals=3)\n"
      ],
      "metadata": {
        "colab": {
          "base_uri": "https://localhost:8080/"
        },
        "id": "JCBHcoOP2AJ7",
        "outputId": "66a21f71-b284-42e2-c2e0-35b831db2f81"
      },
      "id": "JCBHcoOP2AJ7",
      "execution_count": null,
      "outputs": [
        {
          "output_type": "execute_result",
          "data": {
            "text/plain": [
              "array([[0.999]], dtype=float32)"
            ]
          },
          "metadata": {},
          "execution_count": 34
        }
      ]
    },
    {
      "cell_type": "code",
      "source": [
        "cv2_imshow(X_test[69].astype(int))"
      ],
      "metadata": {
        "colab": {
          "base_uri": "https://localhost:8080/",
          "height": 67
        },
        "id": "_LGU7ZsB2CA8",
        "outputId": "074f38cd-9f50-4d91-9f27-8af9c3801c7e"
      },
      "id": "_LGU7ZsB2CA8",
      "execution_count": null,
      "outputs": [
        {
          "output_type": "display_data",
          "data": {
            "image/png": "[encoded data removed]",
            "text/plain": [
              "<PIL.Image.Image image mode=RGB size=50x50 at 0x7FDD002F1F50>"
            ]
          },
          "metadata": {}
        }
      ]
    },
    {
      "cell_type": "markdown",
      "source": [
        "# Detecting eye in selfie"
      ],
      "metadata": {
        "id": "Pf5sIjc_TJg4"
      },
      "id": "Pf5sIjc_TJg4"
    },
    {
      "cell_type": "code",
      "source": [
        "#from google.colab.patches import cv2_imshow\n",
        "\n",
        "face_cascade = cv2.CascadeClassifier(cv2.data.haarcascades + 'haarcascade_frontalface_default.xml')\n",
        "eye_cascade = cv2.CascadeClassifier(cv2.data.haarcascades + 'haarcascade_eye.xml')\n",
        "\n",
        "def plot_predict(file_name):\n",
        "  PATH = \"/content/\" + file_name\n",
        "\n",
        "  img=cv2.imread(PATH)\n",
        "  img_gray = cv2.cvtColor(img, cv2.COLOR_BGR2GRAY)\n",
        "\n",
        "  faces = face_cascade.detectMultiScale(img_gray, 1.2, 5)\n",
        "\n",
        "  eye_imgs = []\n",
        "  for (x,y,w,h) in faces:\n",
        "          #cv2.rectangle(img,(x,y),(x+w,y+h),(255,0,0),2)\n",
        "          roi_gray = img_gray[y:y+h, x:x+w]\n",
        "\n",
        "          eyes = eye_cascade.detectMultiScale(roi_gray)\n",
        "          #print(len(eyes))\n",
        "\n",
        "          for i, (ex, ey, ew, eh) in enumerate(eyes):\n",
        "            crop_img = roi_gray[ey: ey + eh + 10, ex: ex + ew + 10]\n",
        "            eye_imgs.append(crop_img)\n",
        "            # The commented line below saves the eyes to a file\n",
        "            #cv2.imwrite('/content/eye' + str(count) + '.jpg', crop_img)\n",
        "            \n",
        "            if i == 1:\n",
        "              break\n",
        "                #cv2.rectangle(roi_color, (ex, ey), (ex + ew, ey + eh), (0, 255, 0), 2)\n",
        "\n",
        "  if eye_imgs == []:\n",
        "    print('no eyes found, predict 0')\n",
        "    #return 0\n",
        "\n",
        "  else:\n",
        "\n",
        "    preds = np.array([])\n",
        "    for crop_img in eye_imgs:\n",
        "      image_array = np.array(crop_img)\n",
        "      image_array_resized = cv2.resize(image_array, dsize=(50,50))\n",
        "      if image_array_resized.mean() < 50:\n",
        "        #print('dark eyes')\n",
        "        image_array_resized+=50\n",
        "        image_array_resized = np.clip(image_array_resized, 0, 255)\n",
        "      elif image_array_resized.mean() > 200:\n",
        "        #print('bright eyes')\n",
        "        image_array_resized-=50\n",
        "        image_array_resized = np.clip(image_array_resized, 0, 255)\n",
        "      \n",
        "      print(np.around(model.predict((image_array_resized+50).reshape(-1, 50, 50, 1)), decimals=3)[0][0])\n",
        "      preds = np.append(preds, np.around(model.predict((image_array_resized+50).reshape(-1, 50, 50, 1)), decimals=3)[0][0])\n",
        "      cv2_imshow(image_array_resized.astype(int))\n",
        "\n",
        "    idx = np.argmax(np.abs(preds - 0.5))\n",
        "    best_pred = preds[idx]\n",
        "    print(f'final pred = {best_pred}')\n",
        "    #return best_pred"
      ],
      "metadata": {
        "id": "4oKV-RDqmsWm"
      },
      "id": "4oKV-RDqmsWm",
      "execution_count": null,
      "outputs": []
    },
    {
      "cell_type": "markdown",
      "source": [
        "Eye Open = 1"
      ],
      "metadata": {
        "id": "3CcfN3wcd0WG"
      },
      "id": "3CcfN3wcd0WG"
    },
    {
      "cell_type": "code",
      "source": [
        "plot_predict('merav.png')"
      ],
      "metadata": {
        "id": "Uvsc0hEhpjCz",
        "colab": {
          "base_uri": "https://localhost:8080/",
          "height": 169
        },
        "outputId": "826d263a-b6c5-474c-977e-46c2474750d1"
      },
      "id": "Uvsc0hEhpjCz",
      "execution_count": null,
      "outputs": [
        {
          "output_type": "stream",
          "name": "stdout",
          "text": [
            "1.0\n"
          ]
        },
        {
          "output_type": "display_data",
          "data": {
            "image/png": "[encoded data removed]",
            "text/plain": [
              "<PIL.Image.Image image mode=L size=50x50 at 0x7FDD001DAFD0>"
            ]
          },
          "metadata": {}
        },
        {
          "output_type": "stream",
          "name": "stdout",
          "text": [
            "1.0\n"
          ]
        },
        {
          "output_type": "display_data",
          "data": {
            "image/png": "[encoded data removed]",
            "text/plain": [
              "<PIL.Image.Image image mode=L size=50x50 at 0x7FDD00347CD0>"
            ]
          },
          "metadata": {}
        },
        {
          "output_type": "stream",
          "name": "stdout",
          "text": [
            "final pred = 1.0\n"
          ]
        }
      ]
    },
    {
      "cell_type": "code",
      "source": [
        "plot_predict('mor.png')"
      ],
      "metadata": {
        "colab": {
          "base_uri": "https://localhost:8080/",
          "height": 169
        },
        "id": "YKuVFwIxytUc",
        "outputId": "f22b62d0-2bf4-4d2e-e740-a44bea8a8c62"
      },
      "id": "YKuVFwIxytUc",
      "execution_count": null,
      "outputs": [
        {
          "output_type": "stream",
          "name": "stdout",
          "text": [
            "1.0\n"
          ]
        },
        {
          "output_type": "display_data",
          "data": {
            "image/png": "[encoded data removed]",
            "text/plain": [
              "<PIL.Image.Image image mode=L size=50x50 at 0x7FDD001D4AD0>"
            ]
          },
          "metadata": {}
        },
        {
          "output_type": "stream",
          "name": "stdout",
          "text": [
            "1.0\n"
          ]
        },
        {
          "output_type": "display_data",
          "data": {
            "image/png": "[encoded data removed]",
            "text/plain": [
              "<PIL.Image.Image image mode=L size=50x50 at 0x7FDD00222490>"
            ]
          },
          "metadata": {}
        },
        {
          "output_type": "stream",
          "name": "stdout",
          "text": [
            "final pred = 1.0\n"
          ]
        }
      ]
    },
    {
      "cell_type": "code",
      "source": [
        "plot_predict('bailey.png')"
      ],
      "metadata": {
        "colab": {
          "base_uri": "https://localhost:8080/",
          "height": 169
        },
        "id": "v8bcrI0qyvpZ",
        "outputId": "7a14a037-e69b-4fc0-f5fc-99bc223e9e20"
      },
      "id": "v8bcrI0qyvpZ",
      "execution_count": null,
      "outputs": [
        {
          "output_type": "stream",
          "name": "stdout",
          "text": [
            "0.0\n"
          ]
        },
        {
          "output_type": "display_data",
          "data": {
            "image/png": "[encoded data removed]",
            "text/plain": [
              "<PIL.Image.Image image mode=L size=50x50 at 0x7FDD0031F310>"
            ]
          },
          "metadata": {}
        },
        {
          "output_type": "stream",
          "name": "stdout",
          "text": [
            "0.0\n"
          ]
        },
        {
          "output_type": "display_data",
          "data": {
            "image/png": "[encoded data removed]",
            "text/plain": [
              "<PIL.Image.Image image mode=L size=50x50 at 0x7FDD00159450>"
            ]
          },
          "metadata": {}
        },
        {
          "output_type": "stream",
          "name": "stdout",
          "text": [
            "final pred = 0.0\n"
          ]
        }
      ]
    },
    {
      "cell_type": "code",
      "source": [
        "model.save('my_model')"
      ],
      "metadata": {
        "id": "2-0JroVgYqor"
      },
      "id": "2-0JroVgYqor",
      "execution_count": null,
      "outputs": []
    },
    {
      "cell_type": "code",
      "source": [
        "new_model = tf.keras.models.load_model('my_model')"
      ],
      "metadata": {
        "id": "qjRvJjgWZGPw"
      },
      "id": "qjRvJjgWZGPw",
      "execution_count": null,
      "outputs": []
    },
    {
      "cell_type": "markdown",
      "source": [
        "Full prediction"
      ],
      "metadata": {
        "id": "ExnHwRJgdv_J"
      },
      "id": "ExnHwRJgdv_J"
    },
    {
      "cell_type": "code",
      "source": [
        "\n",
        "face_cascade = cv2.CascadeClassifier(cv2.data.haarcascades + ‘haarcascade_frontalface_default.xml’)\n",
        "eye_cascade = cv2.CascadeClassifier(cv2.data.haarcascades + ‘haarcascade_eye.xml’)\n",
        "\n",
        "def plot_predict(file_name):\n",
        "  PATH = “/content/” + file_name\n",
        "  img=cv2.imread(PATH)\n",
        "  img_gray = cv2.cvtColor(img, cv2.COLOR_BGR2GRAY)\n",
        "  faces = face_cascade.detectMultiScale(img_gray, 1.2, 5)\n",
        "  eye_imgs = []\n",
        "  for (x,y,w,h) in faces:\n",
        "          roi_gray = img_gray[y:y+h, x:x+w]\n",
        "          eyes = eye_cascade.detectMultiScale(roi_gray)\n",
        "          for i, (ex, ey, ew, eh) in enumerate(eyes):\n",
        "            crop_img = roi_gray[ey: ey + eh + 10, ex: ex + ew + 10]\n",
        "            eye_imgs.append(crop_img)\n",
        "            # The line below saves the eyes to a file\n",
        "            cv2.imwrite(‘/content/eye’ + str(count) + ‘.jpg’, crop_img)\n",
        "            if i == 1:\n",
        "              break\n",
        "                #cv2.rectangle(roi_color, (ex, ey), (ex + ew, ey + eh), (0, 255, 0), 2)\n",
        "  if eye_imgs == []:\n",
        "    print(‘no eyes found, predict 0’)\n",
        "  else:\n",
        "    crop_img1, crop_img2 = eye_imgs\n",
        "    preds = np.array([])\n",
        "    for crop_img in eye_imgs:\n",
        "      image_array = np.array(crop_img)\n",
        "      image_array_resized = cv2.resize(image_array, dsize=(50,50))\n",
        "      if image_array_resized.mean() < 50:\n",
        "        # dark eyes, adjust lighting\n",
        "        image_array_resized+=50\n",
        "        image_array_resized = np.clip(image_array_resized, 0, 255)\n",
        "      elif image_array_resized.mean() > 200:\n",
        "        # bright eyes, adjust lighting\n",
        "        image_array_resized-=50\n",
        "        image_array_resized = np.clip(image_array_resized, 0, 255)\n",
        "      print(np.around(model.predict((image_array_resized+50).reshape(-1, 50, 50, 1)), decimals=3)[0][0])\n",
        "      preds = np.append(preds, np.around(model.predict((image_array_resized+50).reshape(-1, 50, 50, 1)), decimals=3)[0][0])\n",
        "      cv2_imshow(image_array_resized.astype(int))\n",
        "    idx = np.argmax(np.abs(preds - 0.5))\n",
        "    best_pred = preds[idx]\n",
        "    print(f’final pred = {best_pred}’)\n",
        "    return best_pred"
      ],
      "metadata": {
        "id": "avvp8tcXPcgQ"
      },
      "id": "avvp8tcXPcgQ",
      "execution_count": null,
      "outputs": []
    }
  ],
  "metadata": {
    "hide_input": false,
    "kernelspec": {
      "display_name": "Python 3",
      "language": "python",
      "name": "python3"
    },
    "language_info": {
      "codemirror_mode": {
        "name": "ipython",
        "version": 3
      },
      "file_extension": ".py",
      "mimetype": "text/x-python",
      "name": "python",
      "nbconvert_exporter": "python",
      "pygments_lexer": "ipython3",
      "version": "3.8.8"
    },
    "toc": {
      "base_numbering": 1,
      "nav_menu": {},
      "number_sections": true,
      "sideBar": true,
      "skip_h1_title": false,
      "title_cell": "Table of Contents",
      "title_sidebar": "Contents",
      "toc_cell": false,
      "toc_position": {},
      "toc_section_display": true,
      "toc_window_display": false
    },
    "varInspector": {
      "cols": {
        "lenName": 16,
        "lenType": 16,
        "lenVar": 40
      },
      "kernels_config": {
        "python": {
          "delete_cmd_postfix": "",
          "delete_cmd_prefix": "del ",
          "library": "var_list.py",
          "varRefreshCmd": "print(var_dic_list())"
        },
        "r": {
          "delete_cmd_postfix": ") ",
          "delete_cmd_prefix": "rm(",
          "library": "var_list.r",
          "varRefreshCmd": "cat(var_dic_list()) "
        }
      },
      "types_to_exclude": [
        "module",
        "function",
        "builtin_function_or_method",
        "instance",
        "_Feature"
      ],
      "window_display": false
    },
    "colab": {
      "name": "drowsy_detector.ipynb",
      "provenance": [],
      "collapsed_sections": []
    },
    "accelerator": "GPU"
  },
  "nbformat": 4,
  "nbformat_minor": 5
}